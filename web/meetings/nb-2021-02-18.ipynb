{
 "cells": [
  {
   "cell_type": "markdown",
   "metadata": {},
   "source": [
    "# Exercises for 2021-02-18"
   ]
  },
  {
   "cell_type": "code",
   "execution_count": null,
   "metadata": {},
   "outputs": [],
   "source": [
    "using LinearAlgebra\n",
    "using Plots"
   ]
  },
  {
   "cell_type": "markdown",
   "metadata": {},
   "source": [
    "## Iteration\n",
    "\n",
    "Suppose we are trying to reconstruct $x$ that satisfies\n",
    "$$\n",
    "  x = G(x) + r\n",
    "$$\n",
    "where $r$ is known to be small and $G$ has a Lipschitz constant $\\alpha < 1$.  We attempt to approximate $x$ by a fixed point iteration\n",
    "$$\n",
    "  x_{k+1} = G(x_k).\n",
    "$$\n",
    "We would like to understand the error $x_k - x_*$.\n",
    "\n",
    "1.  Argue that $\\|x_{k+2} - x_{k+1}\\| \\leq \\alpha \\|x_{k+1}-x_k\\|$.\n",
    "2.  If $x_{\\infty}$ is the limit of the $x_k$ iterates, argue that $\\|x_k-\\x_\\infty\\| \\leq (1-\\alpha)^{-1} \\|x_k-x_{k+1}\\|$ (using a geometric series argument).\n",
    "3.  From here, argue that $\\|x_k-x\\| \\leq (1-\\alpha)^{-1} (\\|r\\| + \\|x_k-x_{k+1}\\|)$."
   ]
  },
  {
   "cell_type": "markdown",
   "metadata": {},
   "source": []
  },
  {
   "cell_type": "markdown",
   "metadata": {},
   "source": [
    "## Landweber and function approximation\n",
    "\n",
    "Consider the polynomial approximation described on Tuesday (2021-02-16), via a basis of Legendre polynomials.  We are going to compute a regularized solution via Landweber iteration."
   ]
  },
  {
   "cell_type": "code",
   "execution_count": null,
   "metadata": {},
   "outputs": [],
   "source": [
    "function legendre(xx, dmax)\n",
    "    P = zeros(length(xx), dmax+1)\n",
    "    P[:,1] .= 1.0\n",
    "    if dmax > 0\n",
    "        P[:,2] .= xx\n",
    "    end\n",
    "    for n = 1:dmax-1\n",
    "        P[:,n+2] .= ( (2*n+1) .* xx .* P[:,n+1] - n * P[:,n] )/(n+1)\n",
    "    end\n",
    "    return P\n",
    "end\n",
    "\n",
    "function nlegendre(xx, dmax)\n",
    "    Q = legendre(xx, dmax)\n",
    "    for n = 0:dmax\n",
    "        Q[:,n+1] .*= sqrt(n+0.5)\n",
    "    end\n",
    "    return Q\n",
    "end\n",
    "\n",
    "f(x) = exp(-20.0*x^2)"
   ]
  },
  {
   "cell_type": "code",
   "execution_count": null,
   "metadata": {},
   "outputs": [],
   "source": [
    "dmax = 20\n",
    "npts = dmax+1\n",
    "xs = range(-1.0, 1.0, length=npts)\n",
    "A = nlegendre(xs, dmax)\n",
    "b = f.(xs)\n",
    "\n",
    "xx = range(-1, 1, length=100)\n",
    "Ahi = nlegendre(xx, dmax)\n",
    "fxx = f.(xx)\n",
    "\n",
    "# TODO: Implement the Landweber iteration with a fixed step (I recommend 1e-3, but play with it)\n",
    "c = zeros(dmax+1)\n",
    "errs = zeros(1000)\n",
    "for k = 1:1000\n",
    "    # Update c here\n",
    "    errs[k] = norm(fxx - Ahi*c, Inf)\n",
    "end"
   ]
  },
  {
   "cell_type": "code",
   "execution_count": null,
   "metadata": {},
   "outputs": [],
   "source": [
    "# TODO: Plot the errs vector vs iteration count on a semi-logarithmic scale"
   ]
  },
  {
   "cell_type": "code",
   "execution_count": null,
   "metadata": {},
   "outputs": [],
   "source": [
    "# TODO: Plot f vs the final polynomial approximation together on the same plot"
   ]
  }
 ],
 "metadata": {
  "kernelspec": {
   "display_name": "Julia 1.5.3",
   "language": "julia",
   "name": "julia-1.5"
  },
  "language_info": {
   "file_extension": ".jl",
   "mimetype": "application/julia",
   "name": "julia"
  }
 },
 "nbformat": 4,
 "nbformat_minor": 4
}
