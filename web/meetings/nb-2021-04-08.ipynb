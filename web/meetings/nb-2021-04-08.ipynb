{
 "cells": [
  {
   "cell_type": "markdown",
   "metadata": {},
   "source": [
    "# Exercises for 2021-04-08"
   ]
  },
  {
   "cell_type": "code",
   "execution_count": null,
   "metadata": {},
   "outputs": [],
   "source": [
    "using LinearAlgebra\n",
    "using Plots"
   ]
  },
  {
   "cell_type": "markdown",
   "metadata": {},
   "source": [
    "One way of thinking about kernels is via feature vectors.  Suppose $A \\in \\mathbb{R}^{m \\times n}$ with $m < n$, thinking of the rows of $A$ as feature vectors, and consider the minimal norm solution to $Ad = y$ given by\n",
    "$$\n",
    "  d = A^\\dagger y = A^T (A A^T)^{-1} y\n",
    "$$\n",
    "Suppose also that $A^T = QR$ is an economy QR decomposition.\n",
    "\n",
    "## TODO\n",
    "Tasks:\n",
    "\n",
    "1. (2 points) Show that the kernel matrix $K = AA^T$ has Cholesky factorization $K = R^T R$.\n",
    "2. (2 points) Write a simple expression for $A^\\dagger$ in terms of the factors $Q$ and $R$."
   ]
  },
  {
   "cell_type": "markdown",
   "metadata": {},
   "source": [
    "1. Given the decomposition $A^T = QR$, we can express the kernel matrix $K$ as $K = R^TQ^T(QR) = R^TR$ as desired. \n",
    "2. "
   ]
  },
  {
   "cell_type": "markdown",
   "metadata": {},
   "source": [
    "In the rest of this notebook, we will consider some simple kernel interpolants in 2D without resorting to feature vectors, using the Matern kernels with smoothness parameters 1/2 and 3/2 and the thin plate spline (TPS) kernel.  We begin by defining these kernels."
   ]
  },
  {
   "cell_type": "code",
   "execution_count": null,
   "metadata": {},
   "outputs": [],
   "source": [
    "# Matern 1/2 kernel (aka exponential)\n",
<<<<<<< HEAD
    "kexp(x, y, σ=1.0, ℓ=1.0) = exp(-norm(x-y)^2/ℓ^2)\n",
=======
    "kexp(x, y, σ=1.0, ℓ=1.0) = exp(-norm(x-y)/ℓ)\n",
>>>>>>> upstream/main
    "\n",
    "# Matern 3/2 kernel\n",
    "function kmatern32(x, y, ℓ=1.0)\n",
    "    rr = sqrt(3)*norm(x-y)/ℓ\n",
    "    return (1+rr)*exp(-rr)\n",
    "end\n",
    "\n",
    "# Thin plate spline kernel\n",
    "function ktps(x, y)\n",
    "    r = norm(x-y)\n",
    "    return r^2 * log(r)\n",
    "end"
   ]
  },
  {
   "cell_type": "markdown",
   "metadata": {},
   "source": [
    "Now let's define a test function $f : \\mathbb{R}^2 \\rightarrow \\mathbb{R}$ to be approximated, and plot the contours on the unit box, along with the locations of a collection of sample points."
   ]
  },
  {
   "cell_type": "code",
   "execution_count": null,
   "metadata": {},
   "outputs": [],
   "source": [
    "ftest(x) = x[2]*cos(x[1])\n",
    "xx = range(0, 1, length=20)\n",
    "plot(xx, xx, (x,y) -> ftest([x, y]), st=[:contourf])\n",
    "\n",
    "X = rand(2, 50)\n",
    "scatter!(X[1,:], X[2,:])"
   ]
  },
  {
   "cell_type": "markdown",
   "metadata": {},
   "source": [
    "Now we define functions to evaluate a kernel on pairs of points that are columns of $X$ and to evaluate a function $f$ at each point among the columns of $X$."
   ]
  },
  {
   "cell_type": "code",
   "execution_count": null,
   "metadata": {},
   "outputs": [],
   "source": [
    "formKXX(kfun, X) = [kfun(X[:,i], X[:,j]) for i=1:size(X)[2], j=1:size(X)[2]]\n",
    "formfX(fun, X) = [fun(X[:,i]) for i = 1:size(X)[2]]"
   ]
  },
  {
   "cell_type": "markdown",
   "metadata": {},
   "source": [
    "*Task* (2 points): On a semi-log scale, plot the eigenvalues of $K_{XX}$ for the Matern 1/2 and Matern 3/2 kernels.  What do you observe?"
   ]
  },
  {
   "cell_type": "code",
   "execution_count": null,
   "metadata": {},
   "outputs": [],
   "source": []
  },
  {
   "cell_type": "markdown",
   "metadata": {},
   "source": [
    "*Task* (2 points): Set up and solve the kernel system with the Matern 1/2 kernel, and write a code to evaluate the resulting interpolant $s(x)$.  Plot $s(x)$ over the same mesh used above to visually verify that you recover a good approximation of the original function."
   ]
  },
  {
   "cell_type": "code",
   "execution_count": null,
   "metadata": {},
   "outputs": [],
   "source": []
  },
  {
   "cell_type": "markdown",
   "metadata": {},
   "source": [
    "*Task* (2 points): Evaluate the maximum error for kernel interpolation with the Matern 1/2 and Matern 3/2 kernels over the same mesh used for plotting above.  What do you observe?"
   ]
  },
  {
   "cell_type": "code",
   "execution_count": null,
   "metadata": {},
   "outputs": [],
   "source": []
  },
  {
   "cell_type": "markdown",
   "metadata": {},
   "source": [
    "*Task* (4 points): Now consider the interpolant with an affine \"tail\" term (i.e. a kernel approximation plus $\\lambda_0 + \\lambda_1 x_1 + \\lambda_2 x_2$).  Write a code to do the fitting for all three provided kernels (Matern 1/2, Matern 3/2, and TPS), and evaluate the maximum error on a grid in each case."
   ]
  },
  {
   "cell_type": "code",
   "execution_count": null,
   "metadata": {},
   "outputs": [],
   "source": []
  }
 ],
 "metadata": {
  "kernelspec": {
   "display_name": "Julia 1.5.3",
   "language": "julia",
   "name": "julia-1.5"
  },
  "language_info": {
   "file_extension": ".jl",
   "mimetype": "application/julia",
   "name": "julia",
   "version": "1.5.3"
  }
 },
 "nbformat": 4,
 "nbformat_minor": 2
}
