{
 "cells": [
  {
   "cell_type": "markdown",
   "metadata": {},
   "source": [
    "# Exercises for 2021-03-02"
   ]
  },
  {
   "cell_type": "code",
   "execution_count": null,
   "metadata": {},
   "outputs": [],
   "source": [
    "using LinearAlgebra\n",
    "using Plots\n",
    "using Random"
   ]
  },
  {
   "cell_type": "markdown",
   "metadata": {},
   "source": [
    "## Randomized preconditioning\n",
    "\n",
    "For this problem, we set up a test least squares problem with random data:"
   ]
  },
  {
   "cell_type": "code",
   "execution_count": null,
   "metadata": {},
   "outputs": [],
   "source": [
    "A = rand(20, 3)\n",
    "xref = rand(3)\n",
    "η = 1e-2 * randn(20)\n",
    "b = A*xref + η\n",
    "\n",
    "xfull = A\\b\n",
    "print(\"norm(xref-xfull)/norm(xref) = $(norm(xfull-xref)/norm(xref))\")"
   ]
  },
  {
   "cell_type": "markdown",
   "metadata": {},
   "source": [
    "Consider an estimate of $x$ based on sampling 10 rows of $A$ and $b$.\n",
    "\n",
    "1. Add to the following loop something to compute the sample statistics for this estimator (mean and covariance).\n",
    "2. Plot some component of the estimator and comment on its shape.\n",
    "3. Based on the sample mean and variance, how many trials would you expect to require to get a componentwise error on the order of $10^{-3}$ for the mean for each of the coefficients?"
   ]
  },
  {
   "cell_type": "code",
   "execution_count": null,
   "metadata": {},
   "outputs": [],
   "source": [
    "xmean = [0; 0; 0]\n",
    "ntrials = 100\n",
    "for j = 1:ntrials\n",
    "    p = randperm(20)\n",
    "    xj = A[p[1:5],:]\\b[p[1:5]]\n",
    "    xmean += xj\n",
    "    # Augment to compute the sample covariance\n",
    "end\n",
    "xmean = xmean ./ ntrials"
   ]
  },
  {
   "cell_type": "markdown",
   "metadata": {},
   "source": [
    "Now consider instead using ten rows to build a preconditioner for a Landweber-type iteration with unit step, i.e.\n",
    "$$\n",
    "  x_{k+1} = x_k + M^{-1} A^T (b - A x_k)\n",
    "$$\n",
    "where\n",
    "$$\n",
    "  M = \\frac{n}{|I|} A_{I,:}^T A_{I,:}\n",
    "$$\n",
    "with $I$ being a random sample of rows.\n",
    "\n",
    "4. Code up this iteration.\n",
    "5. From a zero initial guess, plot the convergence of this iteration on a semi-log plot.\n",
    "6. How many steps are required to reach a componentwise error if $10^{-3}$ for each of the coefficients?\n",
    "7. Right a code to compute the condition number of $A R^{-1}$ over 100 trials, where $R$ is the Cholesky factor of $M$.  Compute the mean and variance and plot the distribution.  What do you observe?"
   ]
  },
  {
   "cell_type": "code",
   "execution_count": null,
   "metadata": {},
   "outputs": [],
   "source": []
  }
 ],
 "metadata": {
  "kernelspec": {
   "display_name": "Julia 1.5.3",
   "language": "julia",
   "name": "julia-1.5"
  },
  "language_info": {
   "file_extension": ".jl",
   "mimetype": "application/julia",
   "name": "julia"
  }
 },
 "nbformat": 4,
 "nbformat_minor": 4
}
