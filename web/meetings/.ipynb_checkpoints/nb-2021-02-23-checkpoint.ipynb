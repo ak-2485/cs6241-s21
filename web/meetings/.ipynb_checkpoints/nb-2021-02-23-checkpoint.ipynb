{
 "cells": [
  {
   "cell_type": "markdown",
   "metadata": {},
   "source": [
    "# Exercises for 2021-02-23"
   ]
  },
  {
   "cell_type": "code",
   "execution_count": 1,
   "metadata": {},
   "outputs": [],
   "source": [
    "using LinearAlgebra\n",
    "using Plots"
   ]
  },
  {
   "cell_type": "markdown",
   "metadata": {},
   "source": [
    "## Noisy stationary solvers\n",
    "\n",
    "Consider the iteration\n",
    "$$\n",
    "  M x_{k+1} = K x_k + b + \\xi_k\n",
    "$$\n",
    "where we assume $R = M^{-1} K$ has two-norm $\\|R\\| = \\alpha < 1$.  Let $x_* = A^{-1} b$ where $A = M-K$.\n",
    "\n",
    "1. If the noise vectors $\\xi_k$ are always zero, argue that $x_k \\rightarrow x_*$.\n",
    "2. Now suppose $\\xi_k$ is not zero.  Write an iteration equation for the error $e_k = x_k-x_*$, i.e.\n",
    "   write $e_{k+1}$ in terms of $e_k$ and $\\xi_k$.\n",
    "3. Suppose that $\\xi_k$ is $N(0, \\sigma^2 I)$ and independent of $x_k$.  Argue that\n",
    "   $$E[\\|e_{k+1}\\|^2] \\leq \\alpha^2 E[\\|e_k\\|^2] + \\|M^{-1}\\|_F^2 \\sigma^2.$$\n",
    "4. Argue that if $x_0$ is a fixed (non-random) starting guess, then\n",
    "   $$E[\\|e_k\\|^2] \\lesssim \\frac{\\|M^{-1}\\|_F^2 \\sigma^2}{1-\\alpha^2} + \\alpha^{2k} \\|e_0\\|.$$\n",
    "   (Note: you may cite results from the course notes without re-proving them.)"
   ]
  },
  {
   "cell_type": "markdown",
   "metadata": {},
   "source": [
    "## Answers\n",
    "1. If the noise vectors $\\xi_k$ are always zero, given that $ (M - K) x_* = b$, it follows that \n",
    "$$\n",
    "   (x_{k+1} - x_*) = R (x_k  -  x_*).\n",
    "$$\n",
    "\n",
    "2. Using $(M - K) x_* = b$: \n",
    "\n",
    "$$\n",
    "  M (x_{k+1}- x_*) = K (x_k - x_*) + \\xi_k \\\\\n",
    "  M e_{k+1} = K e_k + \\xi_k \\\\\n",
    "  e_{k+1} = R e_k + M^{-1}\\xi_k \\\\\n",
    "$$\n",
    "\n",
    "3. Taking the norm of the iteration equation for $ e_{k+1}$ above, applying the triangle inequality and submultiplicativity yields\n",
    "$$\n",
    "  \\|e_{k+1}\\| = \\|R e_k + M^{-1}\\xi_k \\| \\le \\alpha \\|e_k\\| + \\| M^{-1}\\| \\|\\xi_k \\|\n",
    "$$"
   ]
  },
  {
   "cell_type": "markdown",
   "metadata": {},
   "source": [
    "## SGD for least squares\n",
    "\n",
    "Consider the function\n",
    "$$\n",
    "  \\phi(x) = \\int_{-4}^4 (c_1 + c_2 x^2 + c_3 x^4 - \\cos(x))^2 \\, dx.\n",
    "$$\n",
    "The optimum is given by $Gc = b$ where\n",
    "$$\n",
    "  G = \\int_{-4}^4 \\begin{bmatrix} 1 & x^2 & x^4 \\\\ x^2 & x^4 & x^6 \\\\ x^4 & x^6 & x^8 \\end{bmatrix} \\, dx\n",
    "$$\n",
    "and\n",
    "$$\n",
    "  b = \\int_{-4}^4 \\begin{bmatrix} 1 \\\\ x^2 \\\\ x^4 \\end{bmatrix} \\cos(x) \\, dx\n",
    "$$"
   ]
  },
  {
   "cell_type": "code",
   "execution_count": 2,
   "metadata": {},
   "outputs": [
    {
     "data": {
      "text/plain": [
       "3-element Array{Float64,1}:\n",
       "  0.9230226871699837\n",
       " -0.3929542880606887\n",
       "  0.019209626796745604"
      ]
     },
     "execution_count": 2,
     "metadata": {},
     "output_type": "execute_result"
    }
   ],
   "source": [
    "ATA = 2*[4      4^3/3  4^5/5\n",
    "         4^3/3  4^5/5  4^7/7\n",
    "         4^5/5  4^7/7  4^9/9]\n",
    "ATcos = 2*[sin(4), (4^2-2)*sin(4) + 2*4*cos(4), 4*4*(4^2-6)*cos(4) + (4^4-12*4^2+24)*sin(4)]\n",
    "cref = ATA\\ATcos"
   ]
  },
  {
   "cell_type": "markdown",
   "metadata": {},
   "source": [
    "## TODO: Sanity check this computation by comparing to a least squares problem with a mesh of 100 points on the indicated interval."
   ]
  },
  {
   "cell_type": "code",
   "execution_count": null,
   "metadata": {},
   "outputs": [],
   "source": [
    "# Mesh of 100 points on [-4,4]\n"
   ]
  },
  {
   "cell_type": "code",
   "execution_count": 11,
   "metadata": {},
   "outputs": [
    {
     "data": {
      "text/plain": [
       "0.005001217699203607"
      ]
     },
     "execution_count": 11,
     "metadata": {},
     "output_type": "execute_result"
    }
   ],
   "source": [
    "vals = LinRange(-4,4,100)\n",
    "# Matrix of coefficients\n",
    "A    = zeros(100,3)\n",
    "for j = 1:100\n",
    "   A[j,:] = map(i -> vals[j].^i, [0,2,4])\n",
    "end\n",
    "y       = map(cos  , vals)\n",
    "# Get min \n",
    "c = A\\y\n",
    "norm(c-cref)"
   ]
  },
  {
   "cell_type": "code",
   "execution_count": null,
   "metadata": {},
   "outputs": [],
   "source": [
    "xx = Array(range(-4, 4, length=101))\n",
    "xx = (xx[1:end-1] + xx[2:end])/2     # Midpoints of 100 panels\n",
    "# Fill in here"
   ]
  },
  {
   "cell_type": "markdown",
   "metadata": {},
   "source": [
    "TODO (2 points): Write an SGD solver for minimizing $\\phi$ using $2 \\times 10^5$ steps and a random sample of $B = 20$ points for the gradient estimates, starting from $c = [1 0 0]^T$.  Plot $\\phi(\\hat{c})-\\phi(c_*)$ on a semilog plot.  What do you observe?"
   ]
  },
  {
   "cell_type": "code",
   "execution_count": null,
   "metadata": {},
   "outputs": [],
   "source": []
  }
 ],
 "metadata": {
  "kernelspec": {
   "display_name": "Julia 1.5.3",
   "language": "julia",
   "name": "julia-1.5"
  },
  "language_info": {
   "file_extension": ".jl",
   "mimetype": "application/julia",
   "name": "julia",
   "version": "1.5.3"
  }
 },
 "nbformat": 4,
 "nbformat_minor": 4
}
