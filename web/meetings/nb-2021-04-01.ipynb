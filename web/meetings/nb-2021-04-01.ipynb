{
 "cells": [
  {
   "cell_type": "markdown",
   "metadata": {},
   "source": [
    "# Exercises for 2021-04-01"
   ]
  },
  {
   "cell_type": "code",
   "execution_count": null,
   "metadata": {},
   "outputs": [],
   "source": [
    "using LinearAlgebra\n",
    "using Plots"
   ]
  },
  {
   "cell_type": "markdown",
   "metadata": {},
   "source": [
    "## Constructing cardinals\n",
    "\n",
    "(3 points): Consider approximating functions on $[-1, 1]$ by functions in the space spanned by $\\cos(x)$, $\\sin(x)$, $1$, $x$, and $x^2$.  Compute and plot the cardinal functions (aka the Lagrange functions) for the interpolation points\n",
    "$1, 1/2, 0, -1/2, -1$."
   ]
  },
  {
   "cell_type": "code",
   "execution_count": null,
   "metadata": {},
   "outputs": [],
   "source": []
  },
  {
   "cell_type": "markdown",
   "metadata": {},
   "source": [
    "(1 point): Estimate the Lebesgue constant for this space and interpolation points."
   ]
  },
  {
   "cell_type": "code",
   "execution_count": null,
   "metadata": {},
   "outputs": [],
   "source": []
  },
  {
   "cell_type": "markdown",
   "metadata": {},
   "source": [
    "## Active subspaces\n",
    "\n",
    "Consider the following function, which returns $f(v)$ and $\\nabla f(v)$."
   ]
  },
  {
   "cell_type": "code",
   "execution_count": null,
   "metadata": {},
   "outputs": [],
   "source": [
    "# Returns f(v) and ∇f(v) for v in R^101\n",
    "function ground_state(v)\n",
    "  A = SymTridiagonal(-2*ones(101) + abs.(-50:50) + v, ones(100))\n",
    "  λ = eigmin(A)\n",
    "  ψ = eigvecs(A, [λ])[:,1]\n",
    "  return λ, ψ.^2\n",
    "end"
   ]
  },
  {
   "cell_type": "markdown",
   "metadata": {},
   "source": [
    "Whenever computing an analytic gradient, it is worthwhile to do a sanity check to make sure that the directional derivatives match.  It turns out that a random direction or two is a good enough check most of the time."
   ]
  },
  {
   "cell_type": "code",
   "execution_count": null,
   "metadata": {},
   "outputs": [],
   "source": [
    "vrand = 2*rand(101).-1\n",
    "dvrand = 2*rand(101).-1\n",
    "\n",
    "fv, ∇fv = ground_state(vrand)\n",
    "fv2, ∇fv2 = ground_state(vrand + 1e-3*dvrand)\n",
    "println(\"Finite difference: $((fv2-fv)/1e-3); analytical: $(dvrand'*∇fv)\")"
   ]
  },
  {
   "cell_type": "markdown",
   "metadata": {},
   "source": [
    "(1 point): Explain what the finite difference check is doing."
   ]
  },
  {
   "cell_type": "markdown",
   "metadata": {},
   "source": []
  },
  {
   "cell_type": "markdown",
   "metadata": {},
   "source": [
    "(3 points): Apply the active subspace approach to the following problem where each $v_i$ is between $-1$ and $1$.  Use 200 samples drawn uniformly in the domain.  If we discard all singular values less than 5\\% of the largest, how many do we keep?  Plot the three directions; what do you observe?"
   ]
  },
  {
   "cell_type": "code",
   "execution_count": null,
   "metadata": {},
   "outputs": [],
   "source": []
  },
  {
   "cell_type": "markdown",
   "metadata": {},
   "source": [
    "## POD and EIM\n",
    "\n",
    "Consider the following function (the Rosenbrock function) on $[-2, 2] \\times [-1, 3]$."
   ]
  },
  {
   "cell_type": "code",
   "execution_count": null,
   "metadata": {},
   "outputs": [],
   "source": [
    "rosen(x,y) = (1-x)^2 + 100*(y-x^2)^2"
   ]
  },
  {
   "cell_type": "markdown",
   "metadata": {},
   "source": [
    "Now we evaluate the function on a regular mesh and plot."
   ]
  },
  {
   "cell_type": "code",
   "execution_count": null,
   "metadata": {},
   "outputs": [],
   "source": [
    "xmesh = range(-2,2, length=101)\n",
    "ymesh = range(-1,3, length=101)\n",
    "F = [rosen(x,y) for x in xmesh, y in ymesh]\n",
    "plot(xmesh, ymesh, F, st = [:contourf])"
   ]
  },
  {
   "cell_type": "markdown",
   "metadata": {},
   "source": [
    "(2 points): Run the SVD on $F$.  What is the rank?  Explain why this makes sense."
   ]
  },
  {
   "cell_type": "code",
   "execution_count": null,
   "metadata": {},
   "outputs": [],
   "source": []
  },
  {
   "cell_type": "markdown",
   "metadata": {},
   "source": [
    "(3 points): Implement and run the empirical interpolation method (three steps should be enough).  What three interpolation points are selected?"
   ]
  },
  {
   "cell_type": "code",
   "execution_count": null,
   "metadata": {},
   "outputs": [],
   "source": []
  }
 ],
 "metadata": {
  "kernelspec": {
   "display_name": "Julia 1.5.3",
   "language": "julia",
   "name": "julia-1.5"
  },
  "language_info": {
   "file_extension": ".jl",
   "mimetype": "application/julia",
   "name": "julia"
  }
 },
 "nbformat": 4,
 "nbformat_minor": 2
}
