{
 "cells": [
  {
   "cell_type": "markdown",
   "metadata": {},
   "source": [
    "# Exercises for 2021-03-04"
   ]
  },
  {
   "cell_type": "code",
   "execution_count": null,
   "metadata": {},
   "outputs": [],
   "source": [
    "using LinearAlgebra\n",
    "using Plots\n",
    "using Random"
   ]
  },
  {
   "cell_type": "markdown",
   "metadata": {},
   "source": [
    "## Clustering by interpolative decomposition\n",
    "\n",
    "Consider a data set consisting of $k$ clusters in $n$-dimensional space with $n > k$. These clusters might conventionally be recovered by k-means iteration, but if they are sufficiently well separated, they can also be computed via an interpolative decomposition; if $A \\in \\mathbb{R}^{n \\times m}$ is the data set (consisting of $m$ points), then we have the approximate rank $k$ decomposition\n",
    "$$A \\approx CT$$\n",
    "where $C \\in \\mathbb{R}^{n \\times k}$ is a subset of representative columns of $A$ and the location of the largest element in each column of T indicates the cluster to which the corresponding column of A belongs."
   ]
  },
  {
   "cell_type": "code",
   "execution_count": null,
   "metadata": {},
   "outputs": [],
   "source": [
    "## Noise level\n",
    "σ = 0.2\n",
    "\n",
    "## Generate cluster data\n",
    "centers = randn(5,3)\n",
    "e10     = ones(1,10)\n",
    "A       = zeros(5,30)\n",
    "A[:,1:10]  .= centers[:,1]\n",
    "A[:,11:20] .= centers[:,2]\n",
    "A[:,21:30] .= centers[:,3]\n",
    "An = A + σ*randn(size(A))\n",
    "\n",
    "## Compute the pivoted QR decomposition of the noisy A matrix\n",
    "Q, R, p = qr(An, Val(true))\n",
    "\n",
    "## Reconstruct C and check vs QR decomp\n",
    "C = An[:,p[1:3]]\n",
    "Q1 = Q[:,1:3]\n",
    "R1 = R[1:3,1:3]\n",
    "println(\"norm(C-Q1*R1) = $(norm(C-Q1*R1))\")"
   ]
  },
  {
   "cell_type": "markdown",
   "metadata": {},
   "source": [
    "As we are going to be doing some 2D plots of the clusters in different coordinate systems, it will be convenient to add a custom plotter for this problem."
   ]
  },
  {
   "cell_type": "code",
   "execution_count": null,
   "metadata": {},
   "outputs": [],
   "source": [
    "function scatter_clusters(x, y)\n",
    "    scatter(x[1:10], y[1:10], color=:red)\n",
    "    scatter!(x[11:20], y[11:20], color=:blue)\n",
    "    scatter!(x[21:30], y[21:30], color=:black)\n",
    "end"
   ]
  },
  {
   "cell_type": "code",
   "execution_count": null,
   "metadata": {},
   "outputs": [],
   "source": [
    "## TODO: Evaluate T"
   ]
  },
  {
   "cell_type": "markdown",
   "metadata": {},
   "source": [
    "TODO: Run the plot command below.  What do you observe?  Why?"
   ]
  },
  {
   "cell_type": "code",
   "execution_count": null,
   "metadata": {},
   "outputs": [],
   "source": [
    "## 2D scatter plot\n",
    "scatter_clusters(T[1,:], T[2,:])"
   ]
  },
  {
   "cell_type": "code",
   "execution_count": null,
   "metadata": {},
   "outputs": [],
   "source": [
    "## TODO: Determine cluster labels from max elt in each column\n",
    "#cluster_ids = [SOMETHING for i = 1:30]"
   ]
  },
  {
   "cell_type": "markdown",
   "metadata": {},
   "source": [
    "## PCA plotting\n",
    "\n",
    "We now consider two flavors of plotting a 2D projection of the data: one taking into account the class labels, the other one not.  Before getting started, though, let's center the data."
   ]
  },
  {
   "cell_type": "code",
   "execution_count": null,
   "metadata": {},
   "outputs": [],
   "source": [
    "means = [sum(An[i,:]) for i=1:5]./30\n",
    "Cn = An.-means"
   ]
  },
  {
   "cell_type": "code",
   "execution_count": null,
   "metadata": {},
   "outputs": [],
   "source": [
    "# Project the centered data in the direction of the two dominant singular vectors and plot\n",
    "U,S,Vt = svd(Cn)\n",
    "Qsvd = U[:,1:2]\n",
    "scatter_clusters(S[1]*Vt[:,1], S[2]*Vt[:,2])"
   ]
  },
  {
   "cell_type": "markdown",
   "metadata": {},
   "source": [
    "TODO: The code above is equivalent to plotting `U[:,1:2]'*Cn`.  Why?"
   ]
  },
  {
   "cell_type": "markdown",
   "metadata": {},
   "source": []
  },
  {
   "cell_type": "markdown",
   "metadata": {},
   "source": [
    "TODO: Print the singular values.  You should find that two of them are significantly larger than the rest.  Can you explain why geometrically?"
   ]
  },
  {
   "cell_type": "markdown",
   "metadata": {},
   "source": []
  },
  {
   "cell_type": "markdown",
   "metadata": {},
   "source": [
    "## Multiclass LDA\n",
    "\n",
    "Now we consider the multi-class LDA approach, where the coordinates are determined by the eigenvectors for the problem\n",
    "$$\n",
    "  \\Sigma_b w = \\lambda \\Sigma w\n",
    "$$\n",
    "where $\\Sigma_b$ is the between-class scatter and $\\Sigma$ is the overall covariance."
   ]
  },
  {
   "cell_type": "code",
   "execution_count": null,
   "metadata": {},
   "outputs": [],
   "source": [
    "# Compute class means\n",
    "μ1 = sum(Cn[:,j] for j = 1:10)/10\n",
    "μ2 = sum(Cn[:,j] for j = 11:20)/10\n",
    "μ3 = sum(Cn[:,j] for j = 21:30)/10\n",
    "μ = (μ1 + μ2 + μ3)/3\n",
    "\n",
    "# Between-class scatter matrix\n",
    "Σb = ( (μ1-μ)*(μ1-μ)' + (μ2-μ)*(μ2-μ)' + (μ3-μ)*(μ3-μ)' )/3\n",
    "\n",
    "# Covariance (taking normalization into account)\n",
    "Σ = Cn*Cn'\n",
    "\n",
    "# Compute the space associated with the largest vectors\n",
    "λs, Ws = eigen(Σb, Σ)\n",
    "Qlda, Rlda = qr(Ws[:,4:5])\n",
    "Qlda = Array(Qlda)\n",
    "Qlda = Qlda[:,1:2]\n",
    "\n",
    "# Project the centered data onto this space\n",
    "xy_lda = Qlda'*Cn\n",
    "\n",
    "# And plot\n",
    "scatter_clusters(xy_lda[1,:], xy_lda[2,:])"
   ]
  },
  {
   "cell_type": "markdown",
   "metadata": {},
   "source": [
    "## Compare and contrast\n",
    "\n",
    "The objective for the SVD space is to minimize\n",
    "$$\n",
    "  \\phi_{SVD}(Q) = \\frac{\\mathrm{tr}(Q^T Q)}{\\mathrm{tr}(Q^T \\Sigma Q)}\n",
    "$$\n",
    "while the objective for the LDA space is to minimize\n",
    "$$\n",
    "  \\phi_{LDA}(Q) = \\frac{\\mathrm{tr}(Q^T \\Sigma_b Q)}{\\mathrm{tr}(Q^T \\Sigma Q)}.\n",
    "$$\n",
    "This general trace-minimization framework is described in rather more detail in the paper by Kokiopoulou, Chen, and Saad linked from the class web page.\n",
    "\n",
    "TODO: Numerically verify that the SVD objective is smaller on the SVD space than the LDA space, and vice-versa."
   ]
  },
  {
   "cell_type": "code",
   "execution_count": null,
   "metadata": {},
   "outputs": [],
   "source": []
  },
  {
   "cell_type": "markdown",
   "metadata": {},
   "source": [
    "TODO: The clusters appear fairly well-defined for the given noise level ($\\sigma = 0.2$).  Try increasing $\\sigma$ (say to 0.4 or 0.5) and re-running the experiments.  What do you observe?"
   ]
  },
  {
   "cell_type": "markdown",
   "metadata": {},
   "source": []
  }
 ],
 "metadata": {
  "kernelspec": {
   "display_name": "Julia 1.5.3",
   "language": "julia",
   "name": "julia-1.5"
  },
  "language_info": {
   "file_extension": ".jl",
   "mimetype": "application/julia",
   "name": "julia"
  }
 },
 "nbformat": 4,
 "nbformat_minor": 4
}
