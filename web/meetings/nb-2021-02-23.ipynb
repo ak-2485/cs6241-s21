{
 "cells": [
  {
   "cell_type": "markdown",
   "metadata": {},
   "source": [
    "# Exercises for 2021-02-23"
   ]
  },
  {
   "cell_type": "code",
   "execution_count": null,
   "metadata": {},
   "outputs": [],
   "source": [
    "using LinearAlgebra\n",
    "using Plots"
   ]
  },
  {
   "cell_type": "markdown",
   "metadata": {},
   "source": [
    "## Noisy stationary solvers\n",
    "\n",
    "Consider the iteration\n",
    "$$\n",
    "  M x_{k+1} = K x_k + b + \\xi_k\n",
    "$$\n",
    "where we assume $R = M^{-1} K$ has two-norm $\\|R\\| = \\alpha < 1$.  Let $x_* = A^{-1} b$ where $A = M-K$.\n",
    "\n",
    "1. If the noise vectors $\\xi_k$ are always zero, argue that $x_k \\rightarrow x_*$.\n",
    "2. Now suppose $\\xi_k$ is not zero.  Write an iteration equation for the error $e_k = x_k-x_*$, i.e.\n",
    "   write $e_{k+1}$ in terms of $e_k$ and $\\xi_k$.\n",
    "3. Suppose that $\\xi_k$ is $N(0, \\sigma^2 I)$ and independent of $x_k$.  Argue that\n",
    "   $$E[\\|e_{k+1}\\|^2] \\leq \\alpha^2 E[\\|e_k\\|^2] + \\|M^{-1}\\|_F^2 \\sigma^2.$$\n",
    "4. Argue that if $x_0$ is a fixed (non-random) starting guess, then\n",
    "   $$E[\\|e_k\\|^2] \\lesssim \\frac{\\|M^{-1}\\|_F^2 \\sigma^2}{1-\\alpha^2} + \\alpha^{2k} \\|e_0\\|.$$\n",
    "   (Note: you may cite results from the course notes without re-proving them.)"
   ]
  },
  {
   "cell_type": "markdown",
   "metadata": {},
   "source": [
    "TODO: Fill in with your answers here."
   ]
  },
  {
   "cell_type": "markdown",
   "metadata": {},
   "source": [
    "## SGD for least squares\n",
    "\n",
    "Consider the function\n",
    "$$\n",
    "  \\phi(x) = \\int_{-4}^4 (c_1 + c_2 x^2 + c_3 x^4 - \\cos(x))^2 \\, dx.\n",
    "$$\n",
    "The optimum is given by $Gc = b$ where\n",
    "$$\n",
    "  G = \\int_{-4}^4 \\begin{bmatrix} 1 & x^2 & x^4 \\\\ x^2 & x^4 & x^6 \\\\ x^4 & x^6 & x^8 \\end{bmatrix} \\, dx\n",
    "$$\n",
    "and\n",
    "$$\n",
    "  b = \\int_{-4}^4 \\begin{bmatrix} 1 \\\\ x^2 \\\\ x^4 \\end{bmatrix} \\cos(x) \\, dx\n",
    "$$"
   ]
  },
  {
   "cell_type": "code",
   "execution_count": null,
   "metadata": {},
   "outputs": [],
   "source": [
    "ATA = 2*[4      4^3/3  4^5/5\n",
    "         4^3/3  4^5/5  4^7/7\n",
    "         4^5/5  4^7/7  4^9/9]\n",
    "ATcos = 2*[sin(4), (4^2-2)*sin(4) + 2*4*cos(4), 4*4*(4^2-6)*cos(4) + (4^4-12*4^2+24)*sin(4)]\n",
    "cref = ATA\\ATcos"
   ]
  },
  {
   "cell_type": "markdown",
   "metadata": {},
   "source": [
    "TODO: Sanity check this computation by comparing to a least squares problem with a mesh of 100 points\n",
    "on the indicated interval."
   ]
  },
  {
   "cell_type": "code",
   "execution_count": null,
   "metadata": {},
   "outputs": [],
   "source": [
    "xx = Array(range(-4, 4, length=101))\n",
    "xx = (xx[1:end-1] + xx[2:end])/2     # Midpoints of 100 panels\n",
    "# Fill in here"
   ]
  },
  {
   "cell_type": "markdown",
   "metadata": {},
   "source": [
    "TODO (2 points): Write an SGD solver for minimizing $\\phi$ using $2 \\times 10^5$ steps and a random sample of $B = 20$ points for the gradient estimates, starting from $c = [1 0 0]^T$.  Plot $\\phi(\\hat{c})-\\phi(c_*)$ on a semilog plot.  What do you observe?"
   ]
  },
  {
   "cell_type": "code",
   "execution_count": null,
   "metadata": {},
   "outputs": [],
   "source": []
  }
 ],
 "metadata": {
  "kernelspec": {
   "display_name": "Julia 1.5.3",
   "language": "julia",
   "name": "julia-1.5"
  },
  "language_info": {
   "file_extension": ".jl",
   "mimetype": "application/julia",
   "name": "julia"
  }
 },
 "nbformat": 4,
 "nbformat_minor": 4
}
